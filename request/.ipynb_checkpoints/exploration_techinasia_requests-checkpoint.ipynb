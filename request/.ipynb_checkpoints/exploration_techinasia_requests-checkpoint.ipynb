{
 "cells": [
  {
   "cell_type": "markdown",
   "metadata": {},
   "source": [
    "# Scraping API from _techinasia.com/jobs_\n",
    "\n",
    "## Tools & Library: Python, Postman, Request"
   ]
  },
  {
   "cell_type": "markdown",
   "metadata": {},
   "source": [
    "**Disclaimer:** This scraping no purpose for sale at all."
   ]
  },
  {
   "cell_type": "markdown",
   "metadata": {},
   "source": [
    "### 1. Inisialisasi Library\n",
    "**requests**: untuk melakukan request HTTP/S\n",
    "\n",
    "**pandas**: mengatur data dari raw .json\n",
    "\n",
    "**json**: menyimpan raw .json dari response"
   ]
  },
  {
   "cell_type": "code",
   "execution_count": 2,
   "metadata": {},
   "outputs": [],
   "source": [
    "import pandas as pd\n",
    "import requests\n",
    "import json"
   ]
  },
  {
   "cell_type": "markdown",
   "metadata": {},
   "source": [
    "### 2. Inisialisasi URL, Payload, dan Headers untuk keperluan request.\n",
    "**url**: URL dari API yang ingin di ambil datanya\n",
    "\n",
    "**payload**: merupakan body yang dikirim saat melakukan request, isi dari body terdapat parameter untuk mengambil data secara spesifik, seperti pekerjaan apa yang dicari, seberapa banyak data tersebut, pekerjaan dari kota mana yang ingin diambil, dan banyak lainnya."
   ]
  },
  {
   "cell_type": "code",
   "execution_count": 6,
   "metadata": {},
   "outputs": [],
   "source": [
    "url = \"https://219wx3mpv4-dsn.algolia.net/1/indexes/*/queries?x-algolia-agent=Algolia%20for%20vanilla%20JavaScript%203.30.0%3BJS%20Helper%202.26.1&x-algolia-application-id=219WX3MPV4&x-algolia-api-key=b528008a75dc1c4402bfe0d8db8b3f8e\"\n",
    "\n",
    "payload = \"{\\r\\n    \\\"requests\\\": [\\r\\n        {\\r\\n            \\\"indexName\\\": \\\"job_postings\\\",\\r\\n            \\\"params\\\": \\\"query=data&hitsPerPage=2&maxValuesPerFacet=2&page=0&facets=%5B%22*%22%2C%22city.work_country_name%22%2C%22position.name%22%2C%22industries.vertical_name%22%2C%22experience%22%2C%22job_type.name%22%2C%22is_salary_visible%22%2C%22has_equity%22%2C%22currency.currency_code%22%2C%22salary_min%22%2C%22taxonomies.slug%22%5D&tagFilters=&facetFilters=%5B%5B%22city.work_country_name%3AIndonesia%22%5D%5D\\\"\\r\\n        }\\r\\n    ]\\r\\n}\""
   ]
  },
  {
   "cell_type": "markdown",
   "metadata": {},
   "source": [
    "In the payload above, there is the following code:\n",
    "\n",
    "``query=`` \n",
    "*This is used to enter the keywords of the job being searched for. Leave it blank if you want to see all data.*\n",
    "\n",
    "``hitsPerPage=1000&maxValuesPerFacet=1000`` \n",
    "*It is used to retrieve how much data.*\n",
    "\n",
    "In this exploration I use the keyword \"data\" and request 1000 data because there is no IP blocking and instead of making requests back and forth, just 1 time and immediately many if data is available. And get results from around 300 job vacancies data."
   ]
  },
  {
   "cell_type": "code",
   "execution_count": 7,
   "metadata": {},
   "outputs": [],
   "source": [
    "response = requests.request(\"POST\", url, data=payload)\n",
    "response.raise_for_status()\n",
    "\n",
    "# data = response.json()\n",
    "pretty_json = json.loads(response.text)\n",
    "# print(json.dumps(pretty_json, indent=2))\n",
    "with open('data.json', 'w') as r:\n",
    "    r.write(json.dumps(pretty_json, indent=4))\n"
   ]
  },
  {
   "cell_type": "markdown",
   "metadata": {},
   "source": [
    "Initialize jobs variable to save value from response"
   ]
  },
  {
   "cell_type": "code",
   "execution_count": 41,
   "metadata": {},
   "outputs": [],
   "source": [
    "jobs = []"
   ]
  },
  {
   "cell_type": "markdown",
   "metadata": {},
   "source": [
    "The response is .json, it will uses a loop to get all the data and append to jobs variable. \n",
    "\n",
    "Here I will only take the job title, job type, company name, company industry, company location, salary, experience, and skills."
   ]
  },
  {
   "cell_type": "code",
   "execution_count": 42,
   "metadata": {},
   "outputs": [],
   "source": [
    "for item in data['results'][0]['hits']:\n",
    "    skills = [i['name'] for i in item['job_skills']]\n",
    "\n",
    "    job = {\n",
    "        'Title': item['title'],\n",
    "        'Job Type': item['job_type']['name'],\n",
    "        'Company Name': item['company']['name'],\n",
    "        'Company Industry': item['industries'][0]['name'],\n",
    "        'Company City': item['city']['name'],\n",
    "        'Company Country': item['city']['country_name'],\n",
    "        'Salary Avg': item['salary_avg'],\n",
    "        'Salary Min': item['salary_min'],\n",
    "        'Salary Max': item['salary_max'],\n",
    "        'Experience': item['experience'],\n",
    "        'Min Experience': item['experience_min'],\n",
    "        'Max Experience': item['experience_max'],\n",
    "        'Skills': skills,\n",
    "        'Published': item['published_at']\n",
    "    }\n",
    "\n",
    "    jobs.append(job)"
   ]
  },
  {
   "cell_type": "markdown",
   "metadata": {},
   "source": [
    "Create DataFrame from ``jobs`` and export to .csv"
   ]
  },
  {
   "cell_type": "code",
   "execution_count": 43,
   "metadata": {},
   "outputs": [],
   "source": [
    "df = pd.DataFrame(jobs)\n",
    "df.to_csv('job_lists.csv')"
   ]
  }
 ],
 "metadata": {
  "interpreter": {
   "hash": "b3ba2566441a7c06988d0923437866b63cedc61552a5af99d1f4fb67d367b25f"
  },
  "kernelspec": {
   "display_name": "Python 3 (ipykernel)",
   "language": "python",
   "name": "python3"
  },
  "language_info": {
   "codemirror_mode": {
    "name": "ipython",
    "version": 3
   },
   "file_extension": ".py",
   "mimetype": "text/x-python",
   "name": "python",
   "nbconvert_exporter": "python",
   "pygments_lexer": "ipython3",
   "version": "3.9.11"
  }
 },
 "nbformat": 4,
 "nbformat_minor": 2
}
